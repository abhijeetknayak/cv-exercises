{
 "cells": [
  {
   "cell_type": "markdown",
   "id": "c2a33e23",
   "metadata": {},
   "source": [
    "# Evaluate FlowNet and DispNet for disparity evaluation\n",
    "\n",
    "To evaluate the FlowNetS, FlowNetC, DispNetS and DispNetC for disparity evaluation on FlyingThings3D, we use the function eval() from the file eval.py. "
   ]
  },
  {
   "cell_type": "code",
   "execution_count": null,
   "id": "12b45aa5",
   "metadata": {},
   "outputs": [],
   "source": [
    "from eval import eval, setup_args\n",
    "import pandas as pd\n",
    "import matplotlib.pyplot as plt\n",
    "import sys\n",
    "sys.argv = ['']"
   ]
  },
  {
   "cell_type": "markdown",
   "id": "ad9c840d",
   "metadata": {},
   "source": [
    "## FlowNetS\n",
    "The following block will evaluate a FlowNetS with the provided pre-trained weights on the FlyingThings3D test set. Note that the evaluation may run for several minutes. Have a look at the qualitative results by using tensorboard on the specified output directory."
   ]
  },
  {
   "cell_type": "code",
   "execution_count": null,
   "id": "bcf50db2",
   "metadata": {},
   "outputs": [],
   "source": [
    "args = setup_args()\n",
    "args.model = \"FlowNetS\"\n",
    "args.restore = \"/project/cv-ws2122/shared-data1/model_weights/flownet_s_c48_chairs_short.pt\"\n",
    "args.C = 48\n",
    "args.output = \"/project/cv-ws2122/$USER/models/flownet_s_c48_chairs_short\"\n",
    "\n",
    "flownet_s_metrics, flownet_s_results = eval(args)"
   ]
  },
  {
   "cell_type": "markdown",
   "id": "860ef81d",
   "metadata": {},
   "source": [
    "The metrics for each sample and the averaged results are returned as pandas Seris and Dataframes, which can be directly displayed by Jupyter notebook as tables and be easily plotted with matplotlib. "
   ]
  },
  {
   "cell_type": "code",
   "execution_count": null,
   "id": "4154fb16",
   "metadata": {},
   "outputs": [],
   "source": [
    "flownet_s_metrics"
   ]
  },
  {
   "cell_type": "code",
   "execution_count": null,
   "id": "3c74a45f",
   "metadata": {},
   "outputs": [],
   "source": [
    "flownet_s_results"
   ]
  },
  {
   "cell_type": "code",
   "execution_count": null,
   "id": "4d4d72a8",
   "metadata": {},
   "outputs": [],
   "source": [
    "flownet_s_metrics.plot()"
   ]
  },
  {
   "cell_type": "markdown",
   "id": "ffa84b1a",
   "metadata": {},
   "source": [
    "## FlowNetC"
   ]
  },
  {
   "cell_type": "code",
   "execution_count": null,
   "id": "74007a91",
   "metadata": {},
   "outputs": [],
   "source": [
    "args = setup_args()\n",
    "args.model = \"FlowNetC\"\n",
    "args.restore = \"/project/cv-ws2122/shared-data1/model_weights/flownet_c_c48_chairs_short.pt\"\n",
    "args.C = 48\n",
    "args.output = \"/project/cv-ws2122/$USER/models/flownet_c_c48_chairs_short\"\n",
    "\n",
    "flownet_c_metrics, flownet_c_results = eval(args)"
   ]
  },
  {
   "cell_type": "code",
   "execution_count": null,
   "id": "32acbaa2",
   "metadata": {},
   "outputs": [],
   "source": [
    "print(flownet_c_results)"
   ]
  },
  {
   "cell_type": "markdown",
   "id": "90196812",
   "metadata": {},
   "source": [
    "## DispNetS"
   ]
  },
  {
   "cell_type": "code",
   "execution_count": null,
   "id": "881b10a8",
   "metadata": {},
   "outputs": [],
   "source": [
    "args = setup_args()\n",
    "args.model = \"DispNetS\"\n",
    "args.restore = \"/project/cv-ws2122/shared-data1/model_weights/dispnet_s_c48_things_short.pt\"\n",
    "args.C = 48\n",
    "args.output = \"/project/cv-ws2122/$USER/models/dispnet_s_c48_things_short\"\n",
    "\n",
    "dispnet_s_metrics, dispnet_s_results = eval(args)"
   ]
  },
  {
   "cell_type": "code",
   "execution_count": null,
   "id": "5478d4a1",
   "metadata": {},
   "outputs": [],
   "source": [
    "print(dispnet_s_results)"
   ]
  },
  {
   "cell_type": "markdown",
   "id": "f0a6aaa5",
   "metadata": {},
   "source": [
    "## DispNetC"
   ]
  },
  {
   "cell_type": "code",
   "execution_count": null,
   "id": "2c4efc71",
   "metadata": {},
   "outputs": [],
   "source": [
    "args = setup_args()\n",
    "args.model = \"DispNetC\"\n",
    "args.restore = \"/project/cv-ws2122/shared-data1/model_weights/dispnet_c_c48_things_short.pt\"\n",
    "args.C = 48\n",
    "args.output = \"/project/cv-ws2122/$USER/models/dispnet_c_c48_things_short\"\n",
    "\n",
    "dispnet_c_metrics, dispnet_c_results = eval(args)"
   ]
  },
  {
   "cell_type": "markdown",
   "id": "c40a5118",
   "metadata": {},
   "source": [
    "If your correlation layer implementation from the previous task was correct, this should give an EPE of ."
   ]
  },
  {
   "cell_type": "code",
   "execution_count": null,
   "id": "96324ec8",
   "metadata": {},
   "outputs": [],
   "source": [
    "print(dispnet_c_results)"
   ]
  },
  {
   "cell_type": "markdown",
   "id": "641f7352",
   "metadata": {},
   "source": [
    "## Comparison\n",
    "\n",
    "Now that results are available for all four models, we want to compare results. Your task is to show the results as table and plot them as shown on the assignment sheet.\n",
    "For this, you have to combine the pandas Series/DataFrames that contain the metrics/results of each model. Have a look at the pandas documentation and make use of the notebook to quickly try and check commands. "
   ]
  },
  {
   "cell_type": "code",
   "execution_count": null,
   "id": "6716cae5",
   "metadata": {},
   "outputs": [],
   "source": [
    "# START TODO #################\n",
    "# Combine the flownet_s_metrics, flownet_c_metrics, dispnet_s_metrics and dispnet_c_metrics \n",
    "# to a pandas DataFrame called combined_metrics.\n",
    "# Combine the flownet_s_results, flownet_c_results, dispnet_s_results and dispnet_c_results \n",
    "# to a pandas DataFrame called combined_results.\n",
    "combined_metrics = None\n",
    "combined_results = None\n",
    "# END TODO #################"
   ]
  },
  {
   "cell_type": "markdown",
   "id": "65b59e0a",
   "metadata": {},
   "source": [
    "Show the combined metrics:"
   ]
  },
  {
   "cell_type": "code",
   "execution_count": null,
   "id": "28ffaf0d",
   "metadata": {},
   "outputs": [],
   "source": [
    "combined_metrics"
   ]
  },
  {
   "cell_type": "code",
   "execution_count": null,
   "id": "a4512fd8",
   "metadata": {},
   "outputs": [],
   "source": [
    "combined_metrics.plot(ylabel=\"EPE\", ylim=(0,30))"
   ]
  },
  {
   "cell_type": "markdown",
   "id": "face0dc6",
   "metadata": {},
   "source": [
    "Show the combined results:"
   ]
  },
  {
   "cell_type": "code",
   "execution_count": null,
   "id": "c84d07cc",
   "metadata": {},
   "outputs": [],
   "source": [
    "combined_results"
   ]
  },
  {
   "cell_type": "code",
   "execution_count": null,
   "id": "97461822",
   "metadata": {},
   "outputs": [],
   "source": [
    "# START TODO #################\n",
    "# Create the bar plot as shown in Figure 3b of the assignment sheet.\n",
    "# END TODO #################"
   ]
  }
 ],
 "metadata": {
  "kernelspec": {
   "display_name": "torch-1.9-20.04",
   "language": "python",
   "name": "torch-1.9-20.04"
  },
  "language_info": {
   "codemirror_mode": {
    "name": "ipython",
    "version": 3
   },
   "file_extension": ".py",
   "mimetype": "text/x-python",
   "name": "python",
   "nbconvert_exporter": "python",
   "pygments_lexer": "ipython3",
   "version": "3.8.10"
  }
 },
 "nbformat": 4,
 "nbformat_minor": 5
}
